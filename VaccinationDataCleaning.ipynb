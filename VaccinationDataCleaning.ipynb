{
  "nbformat": 4,
  "nbformat_minor": 0,
  "metadata": {
    "colab": {
      "provenance": []
    },
    "kernelspec": {
      "name": "python3",
      "display_name": "Python 3"
    },
    "language_info": {
      "name": "python"
    }
  },
  "cells": [
    {
      "cell_type": "code",
      "execution_count": null,
      "metadata": {
        "colab": {
          "base_uri": "https://localhost:8080/"
        },
        "id": "V2OFvZdKMKDV",
        "outputId": "f3e0e5c2-273c-414b-a522-596d51516804"
      },
      "outputs": [
        {
          "output_type": "stream",
          "name": "stdout",
          "text": [
            "Requirement already satisfied: pandas in /usr/local/lib/python3.10/dist-packages (2.2.2)\n",
            "Requirement already satisfied: numpy>=1.22.4 in /usr/local/lib/python3.10/dist-packages (from pandas) (1.26.4)\n",
            "Requirement already satisfied: python-dateutil>=2.8.2 in /usr/local/lib/python3.10/dist-packages (from pandas) (2.8.2)\n",
            "Requirement already satisfied: pytz>=2020.1 in /usr/local/lib/python3.10/dist-packages (from pandas) (2024.2)\n",
            "Requirement already satisfied: tzdata>=2022.7 in /usr/local/lib/python3.10/dist-packages (from pandas) (2024.2)\n",
            "Requirement already satisfied: six>=1.5 in /usr/local/lib/python3.10/dist-packages (from python-dateutil>=2.8.2->pandas) (1.17.0)\n"
          ]
        }
      ],
      "source": [
        "pip install pandas"
      ]
    },
    {
      "cell_type": "code",
      "source": [
        "import pandas as pd\n",
        "import numpy as np"
      ],
      "metadata": {
        "id": "oyftqsWnOkRu"
      },
      "execution_count": null,
      "outputs": []
    },
    {
      "cell_type": "code",
      "source": [
        "import pandas as pd\n",
        "\n",
        "# List of your Excel files\n",
        "excel_files = [ 'vaccine_introduction.csv.xlsx', 'vaccine_schedule.csv.xlsx']\n",
        "\n",
        "# Loop through each Excel file and save it as a CSV\n",
        "for file in excel_files:\n",
        "    # Load the Excel file\n",
        "    data = pd.read_excel(file)\n",
        "\n",
        "    # Generate a CSV filename\n",
        "    csv_file = file.replace('.xlsx', '.csv')\n",
        "\n",
        "    # Save the file as CSV\n",
        "    data.to_csv(csv_file, index=False)\n",
        "    print(f\"Converted {file} to {csv_file}\")"
      ],
      "metadata": {
        "colab": {
          "base_uri": "https://localhost:8080/"
        },
        "id": "MbvwAkXYM92U",
        "outputId": "4893526b-1fd3-4a62-b98c-90e287b63958"
      },
      "execution_count": null,
      "outputs": [
        {
          "output_type": "stream",
          "name": "stdout",
          "text": [
            "Converted vaccine_introduction.csv.xlsx to vaccine_introduction.csv.csv\n",
            "Converted vaccine_schedule.csv.xlsx to vaccine_schedule.csv.csv\n"
          ]
        }
      ]
    },
    {
      "cell_type": "code",
      "source": [
        "import pandas as pd\n",
        "\n",
        "# Function to clean each dataset\n",
        "def clean_coverage_data():\n",
        "    df = pd.read_csv('coverage_data.csv.csv')\n",
        "    # Strip spaces from all column names\n",
        "    df.columns = df.columns.str.strip().str.upper()  # Optionally convert all names to uppercase\n",
        "    # Fill missing Coverage with 0\n",
        "    df['COVERAGE'] = df['COVERAGE'].fillna(0)\n",
        "    # Ensure Year is in datetime format\n",
        "    df['YEAR'] = pd.to_datetime(df['YEAR'], format='%Y')\n",
        "    df.to_csv('cleaned_coverage_data.csv', index=False)\n",
        "    print(\"Coverage data cleaned and saved.\")\n",
        "\n",
        "def clean_incidence_data():\n",
        "    df = pd.read_csv('incidence_rate.csv.csv')\n",
        "    # Strip spaces from all column names\n",
        "    df.columns = df.columns.str.strip().str.upper()  # Optionally convert all names to uppercase\n",
        "    # Drop rows with missing incidence rates\n",
        "    df= df.dropna(subset=['INCIDENCE_RATE'])\n",
        "    # Ensure Year is in datetime format\n",
        "    df['YEAR'] = pd.to_datetime(df['YEAR'], format='%Y')\n",
        "    df.to_csv('cleaned_incidence_data.csv', index=False)\n",
        "    print(\"Incidence data cleaned and saved.\")\n",
        "\n",
        "def clean_reported_cases():\n",
        "    df = pd.read_csv('reported_cases.csv.csv')\n",
        "    # Strip spaces from all column names\n",
        "    df.columns = df.columns.str.strip().str.upper()  # Optionally convert all names to uppercase\n",
        "    # Fill missing cases with 0\n",
        "    df['CASES'] = df['CASES'].fillna(0)\n",
        "    # Ensure Year is in datetime format\n",
        "    df['YEAR'] = pd.to_datetime(df['YEAR'], format='%Y')\n",
        "    df.to_csv('cleaned_reported_cases.csv', index=False)\n",
        "    print(\"Reported cases data cleaned and saved.\")\n",
        "\n",
        "def clean_vaccine_intro_data():\n",
        "    df = pd.read_csv('vaccine_introduction.csv.csv')\n",
        "    # Strip spaces from all column names\n",
        "    df.columns = df.columns.str.strip().str.upper()  # Optionally convert all names to uppercase\n",
        "    # Fill missing Introduced values with False\n",
        "    df['INTRO'] = df['INTRO'].fillna(False)\n",
        "    # Ensure Year is in datetime format\n",
        "    df['YEAR'] = pd.to_datetime(df['YEAR'], format='%Y')\n",
        "    df.to_csv('cleaned_vaccine_introduction.csv', index=False)\n",
        "    print(\"Vaccine introduction data cleaned and saved.\")\n",
        "\n",
        "def clean_vaccine_schedule_data():\n",
        "    df = pd.read_csv('vaccine_schedule.csv.csv')\n",
        "    # Strip spaces from all column names\n",
        "    df.columns = df.columns.str.strip().str.upper()  # Optionally convert all names to uppercase\n",
        "    # Fill missing schedule rounds with 0\n",
        "    df['SCHEDULEROUNDS'] = df['SCHEDULEROUNDS'].fillna(0)\n",
        "    # Ensure Year is in datetime format\n",
        "    df['YEAR'] = pd.to_datetime(df['YEAR'], format='%Y')\n",
        "    df.to_csv('cleaned_vaccine_schedule.csv', index=False)\n",
        "    print(\"Vaccine schedule data cleaned and saved.\")\n",
        "\n",
        "# Call all cleaning functions\n",
        "clean_coverage_data()\n",
        "clean_incidence_data()\n",
        "clean_reported_cases()\n",
        "clean_vaccine_intro_data()\n",
        "clean_vaccine_schedule_data()"
      ],
      "metadata": {
        "colab": {
          "base_uri": "https://localhost:8080/"
        },
        "id": "LtxWO_kjOp8i",
        "outputId": "92ce0e0c-c7d5-4e7b-a837-5d00837bb5b5"
      },
      "execution_count": null,
      "outputs": [
        {
          "output_type": "stream",
          "name": "stdout",
          "text": [
            "Coverage data cleaned and saved.\n",
            "Incidence data cleaned and saved.\n",
            "Reported cases data cleaned and saved.\n",
            "Vaccine introduction data cleaned and saved.\n",
            "Vaccine schedule data cleaned and saved.\n"
          ]
        }
      ]
    },
    {
      "cell_type": "code",
      "source": [
        "coverage_data = pd.read_csv(\"/content/vaccine_schedule.csv.csv\")"
      ],
      "metadata": {
        "id": "FUiLYeIRPoGz"
      },
      "execution_count": null,
      "outputs": []
    },
    {
      "cell_type": "code",
      "source": [
        "print(coverage_data.columns)"
      ],
      "metadata": {
        "colab": {
          "base_uri": "https://localhost:8080/"
        },
        "id": "K4I-kM1UPyAv",
        "outputId": "51576036-4fc9-443b-a205-136aa0341527"
      },
      "execution_count": null,
      "outputs": [
        {
          "output_type": "stream",
          "name": "stdout",
          "text": [
            "Index(['ISO_3_CODE', 'COUNTRYNAME', 'WHO_REGION', 'YEAR', 'VACCINECODE',\n",
            "       'VACCINE_DESCRIPTION', 'SCHEDULEROUNDS', 'TARGETPOP',\n",
            "       'TARGETPOP_DESCRIPTION', 'GEOAREA', 'AGEADMINISTERED', 'SOURCECOMMENT'],\n",
            "      dtype='object')\n"
          ]
        }
      ]
    }
  ]
}